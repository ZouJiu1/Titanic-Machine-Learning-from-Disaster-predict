{
 "cells": [
  {
   "cell_type": "markdown",
   "metadata": {},
   "source": [
    "# 第一步查看数据"
   ]
  },
  {
   "cell_type": "markdown",
   "metadata": {},
   "source": [
    "## 导入相应库"
   ]
  },
  {
   "cell_type": "code",
   "execution_count": 27,
   "metadata": {
    "collapsed": true
   },
   "outputs": [],
   "source": [
    "import numpy as np\n",
    "import pandas as pd\n",
    "import matplotlib\n",
    "import matplotlib.pyplot as plt\n",
    "import seaborn as sns\n",
    "import sys\n",
    "# %matplotlib notebook\n",
    "%matplotlib inline"
   ]
  },
  {
   "cell_type": "code",
   "execution_count": 28,
   "metadata": {},
   "outputs": [
    {
     "data": {
      "text/html": [
       "<div>\n",
       "<style>\n",
       "    .dataframe thead tr:only-child th {\n",
       "        text-align: right;\n",
       "    }\n",
       "\n",
       "    .dataframe thead th {\n",
       "        text-align: left;\n",
       "    }\n",
       "\n",
       "    .dataframe tbody tr th {\n",
       "        vertical-align: top;\n",
       "    }\n",
       "</style>\n",
       "<table border=\"1\" class=\"dataframe\">\n",
       "  <thead>\n",
       "    <tr style=\"text-align: right;\">\n",
       "      <th></th>\n",
       "      <th>PassengerId</th>\n",
       "      <th>Survived</th>\n",
       "      <th>Pclass</th>\n",
       "      <th>Name</th>\n",
       "      <th>Sex</th>\n",
       "      <th>Age</th>\n",
       "      <th>SibSp</th>\n",
       "      <th>Parch</th>\n",
       "      <th>Ticket</th>\n",
       "      <th>Fare</th>\n",
       "      <th>Cabin</th>\n",
       "      <th>Embarked</th>\n",
       "    </tr>\n",
       "  </thead>\n",
       "  <tbody>\n",
       "    <tr>\n",
       "      <th>0</th>\n",
       "      <td>1</td>\n",
       "      <td>0</td>\n",
       "      <td>3</td>\n",
       "      <td>Braund, Mr. Owen Harris</td>\n",
       "      <td>male</td>\n",
       "      <td>22.0</td>\n",
       "      <td>1</td>\n",
       "      <td>0</td>\n",
       "      <td>A/5 21171</td>\n",
       "      <td>7.2500</td>\n",
       "      <td>NaN</td>\n",
       "      <td>S</td>\n",
       "    </tr>\n",
       "    <tr>\n",
       "      <th>1</th>\n",
       "      <td>2</td>\n",
       "      <td>1</td>\n",
       "      <td>1</td>\n",
       "      <td>Cumings, Mrs. John Bradley (Florence Briggs Th...</td>\n",
       "      <td>female</td>\n",
       "      <td>38.0</td>\n",
       "      <td>1</td>\n",
       "      <td>0</td>\n",
       "      <td>PC 17599</td>\n",
       "      <td>71.2833</td>\n",
       "      <td>C85</td>\n",
       "      <td>C</td>\n",
       "    </tr>\n",
       "    <tr>\n",
       "      <th>2</th>\n",
       "      <td>3</td>\n",
       "      <td>1</td>\n",
       "      <td>3</td>\n",
       "      <td>Heikkinen, Miss. Laina</td>\n",
       "      <td>female</td>\n",
       "      <td>26.0</td>\n",
       "      <td>0</td>\n",
       "      <td>0</td>\n",
       "      <td>STON/O2. 3101282</td>\n",
       "      <td>7.9250</td>\n",
       "      <td>NaN</td>\n",
       "      <td>S</td>\n",
       "    </tr>\n",
       "    <tr>\n",
       "      <th>3</th>\n",
       "      <td>4</td>\n",
       "      <td>1</td>\n",
       "      <td>1</td>\n",
       "      <td>Futrelle, Mrs. Jacques Heath (Lily May Peel)</td>\n",
       "      <td>female</td>\n",
       "      <td>35.0</td>\n",
       "      <td>1</td>\n",
       "      <td>0</td>\n",
       "      <td>113803</td>\n",
       "      <td>53.1000</td>\n",
       "      <td>C123</td>\n",
       "      <td>S</td>\n",
       "    </tr>\n",
       "    <tr>\n",
       "      <th>4</th>\n",
       "      <td>5</td>\n",
       "      <td>0</td>\n",
       "      <td>3</td>\n",
       "      <td>Allen, Mr. William Henry</td>\n",
       "      <td>male</td>\n",
       "      <td>35.0</td>\n",
       "      <td>0</td>\n",
       "      <td>0</td>\n",
       "      <td>373450</td>\n",
       "      <td>8.0500</td>\n",
       "      <td>NaN</td>\n",
       "      <td>S</td>\n",
       "    </tr>\n",
       "  </tbody>\n",
       "</table>\n",
       "</div>"
      ],
      "text/plain": [
       "   PassengerId  Survived  Pclass  \\\n",
       "0            1         0       3   \n",
       "1            2         1       1   \n",
       "2            3         1       3   \n",
       "3            4         1       1   \n",
       "4            5         0       3   \n",
       "\n",
       "                                                Name     Sex   Age  SibSp  \\\n",
       "0                            Braund, Mr. Owen Harris    male  22.0      1   \n",
       "1  Cumings, Mrs. John Bradley (Florence Briggs Th...  female  38.0      1   \n",
       "2                             Heikkinen, Miss. Laina  female  26.0      0   \n",
       "3       Futrelle, Mrs. Jacques Heath (Lily May Peel)  female  35.0      1   \n",
       "4                           Allen, Mr. William Henry    male  35.0      0   \n",
       "\n",
       "   Parch            Ticket     Fare Cabin Embarked  \n",
       "0      0         A/5 21171   7.2500   NaN        S  \n",
       "1      0          PC 17599  71.2833   C85        C  \n",
       "2      0  STON/O2. 3101282   7.9250   NaN        S  \n",
       "3      0            113803  53.1000  C123        S  \n",
       "4      0            373450   8.0500   NaN        S  "
      ]
     },
     "execution_count": 28,
     "metadata": {},
     "output_type": "execute_result"
    }
   ],
   "source": [
    "# 解决matplotlib显示中文问题\n",
    "# 仅适用于Windows\n",
    "plt.rcParams['font.sans-serif'] = ['SimHei']  # 指定默认字体\n",
    "plt.rcParams['axes.unicode_minus'] = False  # 解决保存图像是负号'-'显示为方块的问题\n",
    "df=pd.read_csv(r'.\\Titanic Machine Learning from Disaster\\train.csv')\n",
    "df_test=pd.read_csv(r'.\\Titanic Machine Learning from Disaster\\test.csv')\n",
    "passengerId=df_test['PassengerId']\n",
    "df.head()"
   ]
  },
  {
   "cell_type": "code",
   "execution_count": 29,
   "metadata": {},
   "outputs": [
    {
     "name": "stdout",
     "output_type": "stream",
     "text": [
      "<class 'pandas.core.frame.DataFrame'>\n",
      "RangeIndex: 891 entries, 0 to 890\n",
      "Data columns (total 12 columns):\n",
      "PassengerId    891 non-null int64\n",
      "Survived       891 non-null int64\n",
      "Pclass         891 non-null int64\n",
      "Name           891 non-null object\n",
      "Sex            891 non-null object\n",
      "Age            714 non-null float64\n",
      "SibSp          891 non-null int64\n",
      "Parch          891 non-null int64\n",
      "Ticket         891 non-null object\n",
      "Fare           891 non-null float64\n",
      "Cabin          204 non-null object\n",
      "Embarked       889 non-null object\n",
      "dtypes: float64(2), int64(5), object(5)\n",
      "memory usage: 83.6+ KB\n"
     ]
    },
    {
     "data": {
      "text/html": [
       "<div>\n",
       "<style>\n",
       "    .dataframe thead tr:only-child th {\n",
       "        text-align: right;\n",
       "    }\n",
       "\n",
       "    .dataframe thead th {\n",
       "        text-align: left;\n",
       "    }\n",
       "\n",
       "    .dataframe tbody tr th {\n",
       "        vertical-align: top;\n",
       "    }\n",
       "</style>\n",
       "<table border=\"1\" class=\"dataframe\">\n",
       "  <thead>\n",
       "    <tr style=\"text-align: right;\">\n",
       "      <th></th>\n",
       "      <th>PassengerId</th>\n",
       "      <th>Survived</th>\n",
       "      <th>Pclass</th>\n",
       "      <th>Age</th>\n",
       "      <th>SibSp</th>\n",
       "      <th>Parch</th>\n",
       "      <th>Fare</th>\n",
       "    </tr>\n",
       "  </thead>\n",
       "  <tbody>\n",
       "    <tr>\n",
       "      <th>count</th>\n",
       "      <td>891.000000</td>\n",
       "      <td>891.000000</td>\n",
       "      <td>891.000000</td>\n",
       "      <td>714.000000</td>\n",
       "      <td>891.000000</td>\n",
       "      <td>891.000000</td>\n",
       "      <td>891.000000</td>\n",
       "    </tr>\n",
       "    <tr>\n",
       "      <th>mean</th>\n",
       "      <td>446.000000</td>\n",
       "      <td>0.383838</td>\n",
       "      <td>2.308642</td>\n",
       "      <td>29.699118</td>\n",
       "      <td>0.523008</td>\n",
       "      <td>0.381594</td>\n",
       "      <td>32.204208</td>\n",
       "    </tr>\n",
       "    <tr>\n",
       "      <th>std</th>\n",
       "      <td>257.353842</td>\n",
       "      <td>0.486592</td>\n",
       "      <td>0.836071</td>\n",
       "      <td>14.526497</td>\n",
       "      <td>1.102743</td>\n",
       "      <td>0.806057</td>\n",
       "      <td>49.693429</td>\n",
       "    </tr>\n",
       "    <tr>\n",
       "      <th>min</th>\n",
       "      <td>1.000000</td>\n",
       "      <td>0.000000</td>\n",
       "      <td>1.000000</td>\n",
       "      <td>0.420000</td>\n",
       "      <td>0.000000</td>\n",
       "      <td>0.000000</td>\n",
       "      <td>0.000000</td>\n",
       "    </tr>\n",
       "    <tr>\n",
       "      <th>25%</th>\n",
       "      <td>223.500000</td>\n",
       "      <td>0.000000</td>\n",
       "      <td>2.000000</td>\n",
       "      <td>20.125000</td>\n",
       "      <td>0.000000</td>\n",
       "      <td>0.000000</td>\n",
       "      <td>7.910400</td>\n",
       "    </tr>\n",
       "    <tr>\n",
       "      <th>50%</th>\n",
       "      <td>446.000000</td>\n",
       "      <td>0.000000</td>\n",
       "      <td>3.000000</td>\n",
       "      <td>28.000000</td>\n",
       "      <td>0.000000</td>\n",
       "      <td>0.000000</td>\n",
       "      <td>14.454200</td>\n",
       "    </tr>\n",
       "    <tr>\n",
       "      <th>75%</th>\n",
       "      <td>668.500000</td>\n",
       "      <td>1.000000</td>\n",
       "      <td>3.000000</td>\n",
       "      <td>38.000000</td>\n",
       "      <td>1.000000</td>\n",
       "      <td>0.000000</td>\n",
       "      <td>31.000000</td>\n",
       "    </tr>\n",
       "    <tr>\n",
       "      <th>max</th>\n",
       "      <td>891.000000</td>\n",
       "      <td>1.000000</td>\n",
       "      <td>3.000000</td>\n",
       "      <td>80.000000</td>\n",
       "      <td>8.000000</td>\n",
       "      <td>6.000000</td>\n",
       "      <td>512.329200</td>\n",
       "    </tr>\n",
       "  </tbody>\n",
       "</table>\n",
       "</div>"
      ],
      "text/plain": [
       "       PassengerId    Survived      Pclass         Age       SibSp  \\\n",
       "count   891.000000  891.000000  891.000000  714.000000  891.000000   \n",
       "mean    446.000000    0.383838    2.308642   29.699118    0.523008   \n",
       "std     257.353842    0.486592    0.836071   14.526497    1.102743   \n",
       "min       1.000000    0.000000    1.000000    0.420000    0.000000   \n",
       "25%     223.500000    0.000000    2.000000   20.125000    0.000000   \n",
       "50%     446.000000    0.000000    3.000000   28.000000    0.000000   \n",
       "75%     668.500000    1.000000    3.000000   38.000000    1.000000   \n",
       "max     891.000000    1.000000    3.000000   80.000000    8.000000   \n",
       "\n",
       "            Parch        Fare  \n",
       "count  891.000000  891.000000  \n",
       "mean     0.381594   32.204208  \n",
       "std      0.806057   49.693429  \n",
       "min      0.000000    0.000000  \n",
       "25%      0.000000    7.910400  \n",
       "50%      0.000000   14.454200  \n",
       "75%      0.000000   31.000000  \n",
       "max      6.000000  512.329200  "
      ]
     },
     "execution_count": 29,
     "metadata": {},
     "output_type": "execute_result"
    }
   ],
   "source": [
    "#数据的基本信息概览\n",
    "df.info()\n",
    "df.describe()"
   ]
  },
  {
   "cell_type": "markdown",
   "metadata": {},
   "source": [
    "**可以看出有三列是有缺失值的，分别是 Age年龄,Cabin船舱号,Embarked上船地点**"
   ]
  },
  {
   "cell_type": "code",
   "execution_count": 30,
   "metadata": {},
   "outputs": [
    {
     "data": {
      "text/plain": [
       "PassengerId    False\n",
       "Survived       False\n",
       "Pclass         False\n",
       "Name           False\n",
       "Sex            False\n",
       "Age             True\n",
       "SibSp          False\n",
       "Parch          False\n",
       "Ticket         False\n",
       "Fare           False\n",
       "Cabin           True\n",
       "Embarked        True\n",
       "dtype: bool"
      ]
     },
     "execution_count": 30,
     "metadata": {},
     "output_type": "execute_result"
    }
   ],
   "source": [
    "#查看有缺失值的列\n",
    "# len(df[df.isnull().values==True])    886行\n",
    "df.isnull().any()"
   ]
  },
  {
   "cell_type": "markdown",
   "metadata": {},
   "source": [
    "### 分别查看各列缺失值占的比例\n",
    "***\n",
    "- 可以看到Cabin缺失值过多，可以删除这一列\n",
    "- Age这一列缺失值不是很多，可以通过插值，或者取平均值填补空缺\n",
    "- Embarked这一列缺失值很少，可以直接删除有缺失值的行dropna()"
   ]
  },
  {
   "cell_type": "code",
   "execution_count": 31,
   "metadata": {
    "scrolled": true
   },
   "outputs": [
    {
     "name": "stdout",
     "output_type": "stream",
     "text": [
      "Age的缺失值比例是： 0.19865319865319866\n",
      "Cabin的缺失值比例是： 0.7710437710437711\n",
      "Embarked的缺失值比例是： 0.002244668911335578\n"
     ]
    }
   ],
   "source": [
    "age_none=df['Age'].isnull().values\n",
    "cabin_none=df['Cabin'].isnull().values\n",
    "embarked_none=df['Embarked'].isnull().values\n",
    "\n",
    "print('Age的缺失值比例是：',len(age_none[age_none==True])/len(df))\n",
    "print('Cabin的缺失值比例是：',len(cabin_none[cabin_none==True])/len(df))\n",
    "print('Embarked的缺失值比例是：',len(embarked_none[embarked_none==True])/len(df))"
   ]
  },
  {
   "cell_type": "markdown",
   "metadata": {},
   "source": [
    "** 有缺失值的是Age年龄，Fare费用，Cabin船舱编号，这里Embarked是完整的 **"
   ]
  },
  {
   "cell_type": "code",
   "execution_count": 32,
   "metadata": {},
   "outputs": [
    {
     "data": {
      "text/plain": [
       "PassengerId    False\n",
       "Pclass         False\n",
       "Name           False\n",
       "Sex            False\n",
       "Age             True\n",
       "SibSp          False\n",
       "Parch          False\n",
       "Ticket         False\n",
       "Fare            True\n",
       "Cabin           True\n",
       "Embarked       False\n",
       "dtype: bool"
      ]
     },
     "execution_count": 32,
     "metadata": {},
     "output_type": "execute_result"
    }
   ],
   "source": [
    "df_test.isnull().any()"
   ]
  },
  {
   "cell_type": "code",
   "execution_count": 33,
   "metadata": {},
   "outputs": [
    {
     "name": "stdout",
     "output_type": "stream",
     "text": [
      "Age的缺失值比例是： 0.20574162679425836\n",
      "Cabin的缺失值比例是： 0.7822966507177034\n",
      "Fare的缺失值比例是： 0.0023923444976076554\n"
     ]
    }
   ],
   "source": [
    "age_none=df_test['Age'].isnull().values\n",
    "cabin_none=df_test['Cabin'].isnull().values\n",
    "Fare_none=df_test['Fare'].isnull().values\n",
    "\n",
    "print('Age的缺失值比例是：',len(age_none[age_none==True])/len(df_test))\n",
    "print('Cabin的缺失值比例是：',len(cabin_none[cabin_none==True])/len(df_test))\n",
    "print('Fare的缺失值比例是：',len(Fare_none[Fare_none==True])/len(df_test))"
   ]
  },
  {
   "cell_type": "code",
   "execution_count": 34,
   "metadata": {
    "collapsed": true
   },
   "outputs": [],
   "source": [
    "#对这三列进行处理,先删去Cabin列，然后按性别平均值填补Age，最后dropna()删去空缺行\n",
    "df_s=df.drop(['Cabin','Ticket'],axis=1)#删除Cabin列\n",
    "df_test.drop(['Cabin','Ticket'],axis=1,inplace=True)\n",
    "combine=[df_s,df_test]"
   ]
  },
  {
   "cell_type": "markdown",
   "metadata": {},
   "source": [
    "**按照性别填充数据**"
   ]
  },
  {
   "cell_type": "markdown",
   "metadata": {},
   "source": [
    "## 进行数据转换"
   ]
  },
  {
   "cell_type": "code",
   "execution_count": 35,
   "metadata": {
    "scrolled": true
   },
   "outputs": [
    {
     "name": "stdout",
     "output_type": "stream",
     "text": [
      "{'Master', 'Miss', 'Mme', 'Mlle', 'Rare', 'Mrs', 'Ms', 'Mr'}\n",
      "{'Master', 'Miss', 'Rare', 'Mrs', 'Ms', 'Mr'}\n"
     ]
    }
   ],
   "source": [
    "#对名字进行分类\n",
    "for data in combine:\n",
    "    data['Sex']=data['Sex'].map({'female':0,'male':1}).astype(int)\n",
    "    \n",
    "    data['title']=data['Name'].str.extract('([A-Za-z]+)\\.',expand=False)\n",
    "    pd.crosstab(data['title'], data['Sex'])\n",
    "    data['title']=data['title'].replace(['Lady', 'Countess','Capt', 'Col',\\\n",
    "         'Don', 'Dr', 'Major', 'Rev', 'Sir', 'Jonkheer', 'Dona'],'Rare')\n",
    "    \n",
    "    print(set(data['title'].values))\n",
    "    data['title'] = data['title'].replace('Mlle', 'Miss')\n",
    "    data['title'] = data['title'].replace('Ms', 'Miss')\n",
    "    data['title'] = data['title'].replace('Mme', 'Mrs')\n",
    "    \n",
    "    title_mapping = {\"Mr\": 1, \"Miss\": 2, \"Mrs\": 3, \"Master\": 4, \"Rare\": 5}\n",
    "    data['title']=data['title'].map(title_mapping)\n",
    "    data.drop(['Name','PassengerId'],axis=1,inplace=True)"
   ]
  },
  {
   "cell_type": "code",
   "execution_count": 36,
   "metadata": {},
   "outputs": [
    {
     "data": {
      "text/plain": [
       "Pclass      False\n",
       "Sex         False\n",
       "Age          True\n",
       "SibSp       False\n",
       "Parch       False\n",
       "Fare         True\n",
       "Embarked    False\n",
       "title       False\n",
       "dtype: bool"
      ]
     },
     "execution_count": 36,
     "metadata": {},
     "output_type": "execute_result"
    }
   ],
   "source": [
    "# df_s.isnull().any()\n",
    "# # len(df_s)\n",
    "df_test.isnull().any()"
   ]
  },
  {
   "cell_type": "code",
   "execution_count": 37,
   "metadata": {
    "collapsed": true,
    "scrolled": true
   },
   "outputs": [],
   "source": [
    "#填补年龄\n",
    "guess_ages = np.zeros((2,3))\n",
    "for data in combine:\n",
    "    for i in range(0,2):\n",
    "        for j in range(0,3):\n",
    "            guess_df=data[(data['Sex']==i)&(data['Pclass']==j+1)]['Age'].dropna()\n",
    "            age_guess=guess_df.median()\n",
    "            guess_ages[i,j] = int(age_guess/0.5 + 0.5 )* 0.5\n",
    "    for i in range(0,2):\n",
    "        for j in range(0,3):\n",
    "            data.loc[(data['Age'].isnull())&(data['Sex']==i)&(data['Pclass']==j+1),'Age']=guess_ages[i,j]\n",
    "    data['Age'] = data['Age'].astype(int)\n",
    "# df_s.dropna(inplace=True)#删除很少有缺失值的Embarked列中所属行"
   ]
  },
  {
   "cell_type": "code",
   "execution_count": 38,
   "metadata": {},
   "outputs": [
    {
     "data": {
      "text/plain": [
       "Survived    False\n",
       "Pclass      False\n",
       "Sex         False\n",
       "Age         False\n",
       "SibSp       False\n",
       "Parch       False\n",
       "Fare        False\n",
       "Embarked     True\n",
       "title       False\n",
       "dtype: bool"
      ]
     },
     "execution_count": 38,
     "metadata": {},
     "output_type": "execute_result"
    }
   ],
   "source": [
    "df_s.isnull().any()\n",
    "# # len(df_s)\n",
    "# df_test.isnull().any()"
   ]
  },
  {
   "cell_type": "markdown",
   "metadata": {},
   "source": [
    "## 年龄分段处理"
   ]
  },
  {
   "cell_type": "code",
   "execution_count": 39,
   "metadata": {},
   "outputs": [
    {
     "data": {
      "text/html": [
       "<div>\n",
       "<style>\n",
       "    .dataframe thead tr:only-child th {\n",
       "        text-align: right;\n",
       "    }\n",
       "\n",
       "    .dataframe thead th {\n",
       "        text-align: left;\n",
       "    }\n",
       "\n",
       "    .dataframe tbody tr th {\n",
       "        vertical-align: top;\n",
       "    }\n",
       "</style>\n",
       "<table border=\"1\" class=\"dataframe\">\n",
       "  <thead>\n",
       "    <tr style=\"text-align: right;\">\n",
       "      <th></th>\n",
       "      <th>AgeBand</th>\n",
       "      <th>Survived</th>\n",
       "    </tr>\n",
       "  </thead>\n",
       "  <tbody>\n",
       "    <tr>\n",
       "      <th>0</th>\n",
       "      <td>(-0.08, 16.0]</td>\n",
       "      <td>0.550000</td>\n",
       "    </tr>\n",
       "    <tr>\n",
       "      <th>1</th>\n",
       "      <td>(16.0, 32.0]</td>\n",
       "      <td>0.337374</td>\n",
       "    </tr>\n",
       "    <tr>\n",
       "      <th>2</th>\n",
       "      <td>(32.0, 48.0]</td>\n",
       "      <td>0.412037</td>\n",
       "    </tr>\n",
       "    <tr>\n",
       "      <th>3</th>\n",
       "      <td>(48.0, 64.0]</td>\n",
       "      <td>0.434783</td>\n",
       "    </tr>\n",
       "    <tr>\n",
       "      <th>4</th>\n",
       "      <td>(64.0, 80.0]</td>\n",
       "      <td>0.090909</td>\n",
       "    </tr>\n",
       "  </tbody>\n",
       "</table>\n",
       "</div>"
      ],
      "text/plain": [
       "         AgeBand  Survived\n",
       "0  (-0.08, 16.0]  0.550000\n",
       "1   (16.0, 32.0]  0.337374\n",
       "2   (32.0, 48.0]  0.412037\n",
       "3   (48.0, 64.0]  0.434783\n",
       "4   (64.0, 80.0]  0.090909"
      ]
     },
     "execution_count": 39,
     "metadata": {},
     "output_type": "execute_result"
    }
   ],
   "source": [
    "df_s['AgeBand']=pd.cut(df_s['Age'],5)\n",
    "df_s[['AgeBand','Survived']].groupby(['AgeBand'],as_index=False).mean().sort_values(by='AgeBand',ascending=True)"
   ]
  },
  {
   "cell_type": "code",
   "execution_count": 40,
   "metadata": {
    "scrolled": false
   },
   "outputs": [
    {
     "data": {
      "text/html": [
       "<div>\n",
       "<style>\n",
       "    .dataframe thead tr:only-child th {\n",
       "        text-align: right;\n",
       "    }\n",
       "\n",
       "    .dataframe thead th {\n",
       "        text-align: left;\n",
       "    }\n",
       "\n",
       "    .dataframe tbody tr th {\n",
       "        vertical-align: top;\n",
       "    }\n",
       "</style>\n",
       "<table border=\"1\" class=\"dataframe\">\n",
       "  <thead>\n",
       "    <tr style=\"text-align: right;\">\n",
       "      <th></th>\n",
       "      <th>Survived</th>\n",
       "      <th>Pclass</th>\n",
       "      <th>Sex</th>\n",
       "      <th>Age</th>\n",
       "      <th>SibSp</th>\n",
       "      <th>Parch</th>\n",
       "      <th>Fare</th>\n",
       "      <th>Embarked</th>\n",
       "      <th>title</th>\n",
       "      <th>AgeBand</th>\n",
       "    </tr>\n",
       "  </thead>\n",
       "  <tbody>\n",
       "    <tr>\n",
       "      <th>0</th>\n",
       "      <td>0</td>\n",
       "      <td>3</td>\n",
       "      <td>1</td>\n",
       "      <td>1</td>\n",
       "      <td>1</td>\n",
       "      <td>0</td>\n",
       "      <td>7.2500</td>\n",
       "      <td>S</td>\n",
       "      <td>1</td>\n",
       "      <td>(16.0, 32.0]</td>\n",
       "    </tr>\n",
       "    <tr>\n",
       "      <th>1</th>\n",
       "      <td>1</td>\n",
       "      <td>1</td>\n",
       "      <td>0</td>\n",
       "      <td>2</td>\n",
       "      <td>1</td>\n",
       "      <td>0</td>\n",
       "      <td>71.2833</td>\n",
       "      <td>C</td>\n",
       "      <td>3</td>\n",
       "      <td>(32.0, 48.0]</td>\n",
       "    </tr>\n",
       "    <tr>\n",
       "      <th>2</th>\n",
       "      <td>1</td>\n",
       "      <td>3</td>\n",
       "      <td>0</td>\n",
       "      <td>1</td>\n",
       "      <td>0</td>\n",
       "      <td>0</td>\n",
       "      <td>7.9250</td>\n",
       "      <td>S</td>\n",
       "      <td>2</td>\n",
       "      <td>(16.0, 32.0]</td>\n",
       "    </tr>\n",
       "    <tr>\n",
       "      <th>3</th>\n",
       "      <td>1</td>\n",
       "      <td>1</td>\n",
       "      <td>0</td>\n",
       "      <td>2</td>\n",
       "      <td>1</td>\n",
       "      <td>0</td>\n",
       "      <td>53.1000</td>\n",
       "      <td>S</td>\n",
       "      <td>3</td>\n",
       "      <td>(32.0, 48.0]</td>\n",
       "    </tr>\n",
       "    <tr>\n",
       "      <th>4</th>\n",
       "      <td>0</td>\n",
       "      <td>3</td>\n",
       "      <td>1</td>\n",
       "      <td>2</td>\n",
       "      <td>0</td>\n",
       "      <td>0</td>\n",
       "      <td>8.0500</td>\n",
       "      <td>S</td>\n",
       "      <td>1</td>\n",
       "      <td>(32.0, 48.0]</td>\n",
       "    </tr>\n",
       "  </tbody>\n",
       "</table>\n",
       "</div>"
      ],
      "text/plain": [
       "   Survived  Pclass  Sex  Age  SibSp  Parch     Fare Embarked  title  \\\n",
       "0         0       3    1    1      1      0   7.2500        S      1   \n",
       "1         1       1    0    2      1      0  71.2833        C      3   \n",
       "2         1       3    0    1      0      0   7.9250        S      2   \n",
       "3         1       1    0    2      1      0  53.1000        S      3   \n",
       "4         0       3    1    2      0      0   8.0500        S      1   \n",
       "\n",
       "        AgeBand  \n",
       "0  (16.0, 32.0]  \n",
       "1  (32.0, 48.0]  \n",
       "2  (16.0, 32.0]  \n",
       "3  (32.0, 48.0]  \n",
       "4  (32.0, 48.0]  "
      ]
     },
     "execution_count": 40,
     "metadata": {},
     "output_type": "execute_result"
    }
   ],
   "source": [
    "\n",
    "for dataset in combine:\n",
    "    dataset.loc[dataset['Age']<=16,'Age']=0\n",
    "    dataset.loc[(dataset['Age'] > 16) & (dataset['Age'] <= 32), 'Age'] = 1\n",
    "    dataset.loc[(dataset['Age'] > 32) & (dataset['Age'] <= 48), 'Age'] = 2\n",
    "    dataset.loc[(dataset['Age'] > 48) & (dataset['Age'] <= 64), 'Age'] = 3\n",
    "    dataset.loc[ dataset['Age'] > 64, 'Age']=4\n",
    "df_s.head()"
   ]
  },
  {
   "cell_type": "code",
   "execution_count": 41,
   "metadata": {
    "collapsed": true,
    "scrolled": true
   },
   "outputs": [],
   "source": [
    "df_s.drop(['AgeBand'],axis=1,inplace=True)\n",
    "combine=[df_s,df_test]"
   ]
  },
  {
   "cell_type": "markdown",
   "metadata": {},
   "source": [
    "## 处理家庭中的人数"
   ]
  },
  {
   "cell_type": "code",
   "execution_count": 42,
   "metadata": {},
   "outputs": [
    {
     "data": {
      "text/html": [
       "<div>\n",
       "<style>\n",
       "    .dataframe thead tr:only-child th {\n",
       "        text-align: right;\n",
       "    }\n",
       "\n",
       "    .dataframe thead th {\n",
       "        text-align: left;\n",
       "    }\n",
       "\n",
       "    .dataframe tbody tr th {\n",
       "        vertical-align: top;\n",
       "    }\n",
       "</style>\n",
       "<table border=\"1\" class=\"dataframe\">\n",
       "  <thead>\n",
       "    <tr style=\"text-align: right;\">\n",
       "      <th></th>\n",
       "      <th>FamilySize</th>\n",
       "      <th>Survived</th>\n",
       "    </tr>\n",
       "  </thead>\n",
       "  <tbody>\n",
       "    <tr>\n",
       "      <th>7</th>\n",
       "      <td>8</td>\n",
       "      <td>0.000000</td>\n",
       "    </tr>\n",
       "    <tr>\n",
       "      <th>8</th>\n",
       "      <td>11</td>\n",
       "      <td>0.000000</td>\n",
       "    </tr>\n",
       "    <tr>\n",
       "      <th>5</th>\n",
       "      <td>6</td>\n",
       "      <td>0.136364</td>\n",
       "    </tr>\n",
       "    <tr>\n",
       "      <th>4</th>\n",
       "      <td>5</td>\n",
       "      <td>0.200000</td>\n",
       "    </tr>\n",
       "    <tr>\n",
       "      <th>0</th>\n",
       "      <td>1</td>\n",
       "      <td>0.303538</td>\n",
       "    </tr>\n",
       "    <tr>\n",
       "      <th>6</th>\n",
       "      <td>7</td>\n",
       "      <td>0.333333</td>\n",
       "    </tr>\n",
       "    <tr>\n",
       "      <th>1</th>\n",
       "      <td>2</td>\n",
       "      <td>0.552795</td>\n",
       "    </tr>\n",
       "    <tr>\n",
       "      <th>2</th>\n",
       "      <td>3</td>\n",
       "      <td>0.578431</td>\n",
       "    </tr>\n",
       "    <tr>\n",
       "      <th>3</th>\n",
       "      <td>4</td>\n",
       "      <td>0.724138</td>\n",
       "    </tr>\n",
       "  </tbody>\n",
       "</table>\n",
       "</div>"
      ],
      "text/plain": [
       "   FamilySize  Survived\n",
       "7           8  0.000000\n",
       "8          11  0.000000\n",
       "5           6  0.136364\n",
       "4           5  0.200000\n",
       "0           1  0.303538\n",
       "6           7  0.333333\n",
       "1           2  0.552795\n",
       "2           3  0.578431\n",
       "3           4  0.724138"
      ]
     },
     "execution_count": 42,
     "metadata": {},
     "output_type": "execute_result"
    }
   ],
   "source": [
    "for dataset in combine:\n",
    "    dataset['FamilySize']=dataset['SibSp']+dataset['Parch']+1\n",
    "df_s[['FamilySize','Survived']].groupby('FamilySize',as_index=False).mean().sort_values(by='Survived',ascending=True)"
   ]
  },
  {
   "cell_type": "code",
   "execution_count": 43,
   "metadata": {},
   "outputs": [
    {
     "data": {
      "text/html": [
       "<div>\n",
       "<style>\n",
       "    .dataframe thead tr:only-child th {\n",
       "        text-align: right;\n",
       "    }\n",
       "\n",
       "    .dataframe thead th {\n",
       "        text-align: left;\n",
       "    }\n",
       "\n",
       "    .dataframe tbody tr th {\n",
       "        vertical-align: top;\n",
       "    }\n",
       "</style>\n",
       "<table border=\"1\" class=\"dataframe\">\n",
       "  <thead>\n",
       "    <tr style=\"text-align: right;\">\n",
       "      <th></th>\n",
       "      <th>IsAlone</th>\n",
       "      <th>Survived</th>\n",
       "    </tr>\n",
       "  </thead>\n",
       "  <tbody>\n",
       "    <tr>\n",
       "      <th>0</th>\n",
       "      <td>0</td>\n",
       "      <td>0.505650</td>\n",
       "    </tr>\n",
       "    <tr>\n",
       "      <th>1</th>\n",
       "      <td>1</td>\n",
       "      <td>0.303538</td>\n",
       "    </tr>\n",
       "  </tbody>\n",
       "</table>\n",
       "</div>"
      ],
      "text/plain": [
       "   IsAlone  Survived\n",
       "0        0  0.505650\n",
       "1        1  0.303538"
      ]
     },
     "execution_count": 43,
     "metadata": {},
     "output_type": "execute_result"
    }
   ],
   "source": [
    "for dataset in combine:\n",
    "    dataset['IsAlone']=0\n",
    "    dataset.loc[dataset['FamilySize']==1,'IsAlone']=1\n",
    "df_s[['IsAlone','Survived']].groupby(['IsAlone'],as_index=False).mean()"
   ]
  },
  {
   "cell_type": "code",
   "execution_count": 44,
   "metadata": {},
   "outputs": [
    {
     "data": {
      "text/html": [
       "<div>\n",
       "<style>\n",
       "    .dataframe thead tr:only-child th {\n",
       "        text-align: right;\n",
       "    }\n",
       "\n",
       "    .dataframe thead th {\n",
       "        text-align: left;\n",
       "    }\n",
       "\n",
       "    .dataframe tbody tr th {\n",
       "        vertical-align: top;\n",
       "    }\n",
       "</style>\n",
       "<table border=\"1\" class=\"dataframe\">\n",
       "  <thead>\n",
       "    <tr style=\"text-align: right;\">\n",
       "      <th></th>\n",
       "      <th>Survived</th>\n",
       "      <th>Pclass</th>\n",
       "      <th>Sex</th>\n",
       "      <th>Age</th>\n",
       "      <th>Fare</th>\n",
       "      <th>Embarked</th>\n",
       "      <th>title</th>\n",
       "      <th>IsAlone</th>\n",
       "    </tr>\n",
       "  </thead>\n",
       "  <tbody>\n",
       "    <tr>\n",
       "      <th>0</th>\n",
       "      <td>0</td>\n",
       "      <td>3</td>\n",
       "      <td>1</td>\n",
       "      <td>1</td>\n",
       "      <td>7.2500</td>\n",
       "      <td>S</td>\n",
       "      <td>1</td>\n",
       "      <td>0</td>\n",
       "    </tr>\n",
       "    <tr>\n",
       "      <th>1</th>\n",
       "      <td>1</td>\n",
       "      <td>1</td>\n",
       "      <td>0</td>\n",
       "      <td>2</td>\n",
       "      <td>71.2833</td>\n",
       "      <td>C</td>\n",
       "      <td>3</td>\n",
       "      <td>0</td>\n",
       "    </tr>\n",
       "    <tr>\n",
       "      <th>2</th>\n",
       "      <td>1</td>\n",
       "      <td>3</td>\n",
       "      <td>0</td>\n",
       "      <td>1</td>\n",
       "      <td>7.9250</td>\n",
       "      <td>S</td>\n",
       "      <td>2</td>\n",
       "      <td>1</td>\n",
       "    </tr>\n",
       "    <tr>\n",
       "      <th>3</th>\n",
       "      <td>1</td>\n",
       "      <td>1</td>\n",
       "      <td>0</td>\n",
       "      <td>2</td>\n",
       "      <td>53.1000</td>\n",
       "      <td>S</td>\n",
       "      <td>3</td>\n",
       "      <td>0</td>\n",
       "    </tr>\n",
       "    <tr>\n",
       "      <th>4</th>\n",
       "      <td>0</td>\n",
       "      <td>3</td>\n",
       "      <td>1</td>\n",
       "      <td>2</td>\n",
       "      <td>8.0500</td>\n",
       "      <td>S</td>\n",
       "      <td>1</td>\n",
       "      <td>1</td>\n",
       "    </tr>\n",
       "  </tbody>\n",
       "</table>\n",
       "</div>"
      ],
      "text/plain": [
       "   Survived  Pclass  Sex  Age     Fare Embarked  title  IsAlone\n",
       "0         0       3    1    1   7.2500        S      1        0\n",
       "1         1       1    0    2  71.2833        C      3        0\n",
       "2         1       3    0    1   7.9250        S      2        1\n",
       "3         1       1    0    2  53.1000        S      3        0\n",
       "4         0       3    1    2   8.0500        S      1        1"
      ]
     },
     "execution_count": 44,
     "metadata": {},
     "output_type": "execute_result"
    }
   ],
   "source": [
    "df_s = df_s.drop(['Parch', 'SibSp', 'FamilySize'], axis=1)\n",
    "df_test = df_test.drop(['Parch', 'SibSp', 'FamilySize'], axis=1)\n",
    "combine = [df_s, df_test]\n",
    "df_s.head()"
   ]
  },
  {
   "cell_type": "markdown",
   "metadata": {},
   "source": [
    "## 填充和转换Embarked"
   ]
  },
  {
   "cell_type": "code",
   "execution_count": 45,
   "metadata": {
    "collapsed": true
   },
   "outputs": [],
   "source": [
    "freq_port =df_s.Embarked.dropna().mode()[0]"
   ]
  },
  {
   "cell_type": "code",
   "execution_count": 46,
   "metadata": {
    "collapsed": true
   },
   "outputs": [],
   "source": [
    "df_s['Embarked'].fillna(freq_port,inplace=True)\n",
    "combine=[df_s,df_test]"
   ]
  },
  {
   "cell_type": "code",
   "execution_count": 47,
   "metadata": {},
   "outputs": [
    {
     "data": {
      "text/html": [
       "<div>\n",
       "<style>\n",
       "    .dataframe thead tr:only-child th {\n",
       "        text-align: right;\n",
       "    }\n",
       "\n",
       "    .dataframe thead th {\n",
       "        text-align: left;\n",
       "    }\n",
       "\n",
       "    .dataframe tbody tr th {\n",
       "        vertical-align: top;\n",
       "    }\n",
       "</style>\n",
       "<table border=\"1\" class=\"dataframe\">\n",
       "  <thead>\n",
       "    <tr style=\"text-align: right;\">\n",
       "      <th></th>\n",
       "      <th>Survived</th>\n",
       "      <th>Pclass</th>\n",
       "      <th>Sex</th>\n",
       "      <th>Age</th>\n",
       "      <th>Fare</th>\n",
       "      <th>Embarked</th>\n",
       "      <th>title</th>\n",
       "      <th>IsAlone</th>\n",
       "    </tr>\n",
       "  </thead>\n",
       "  <tbody>\n",
       "    <tr>\n",
       "      <th>0</th>\n",
       "      <td>0</td>\n",
       "      <td>3</td>\n",
       "      <td>1</td>\n",
       "      <td>1</td>\n",
       "      <td>7.2500</td>\n",
       "      <td>0</td>\n",
       "      <td>1</td>\n",
       "      <td>0</td>\n",
       "    </tr>\n",
       "    <tr>\n",
       "      <th>1</th>\n",
       "      <td>1</td>\n",
       "      <td>1</td>\n",
       "      <td>0</td>\n",
       "      <td>2</td>\n",
       "      <td>71.2833</td>\n",
       "      <td>1</td>\n",
       "      <td>3</td>\n",
       "      <td>0</td>\n",
       "    </tr>\n",
       "    <tr>\n",
       "      <th>2</th>\n",
       "      <td>1</td>\n",
       "      <td>3</td>\n",
       "      <td>0</td>\n",
       "      <td>1</td>\n",
       "      <td>7.9250</td>\n",
       "      <td>0</td>\n",
       "      <td>2</td>\n",
       "      <td>1</td>\n",
       "    </tr>\n",
       "    <tr>\n",
       "      <th>3</th>\n",
       "      <td>1</td>\n",
       "      <td>1</td>\n",
       "      <td>0</td>\n",
       "      <td>2</td>\n",
       "      <td>53.1000</td>\n",
       "      <td>0</td>\n",
       "      <td>3</td>\n",
       "      <td>0</td>\n",
       "    </tr>\n",
       "    <tr>\n",
       "      <th>4</th>\n",
       "      <td>0</td>\n",
       "      <td>3</td>\n",
       "      <td>1</td>\n",
       "      <td>2</td>\n",
       "      <td>8.0500</td>\n",
       "      <td>0</td>\n",
       "      <td>1</td>\n",
       "      <td>1</td>\n",
       "    </tr>\n",
       "  </tbody>\n",
       "</table>\n",
       "</div>"
      ],
      "text/plain": [
       "   Survived  Pclass  Sex  Age     Fare  Embarked  title  IsAlone\n",
       "0         0       3    1    1   7.2500         0      1        0\n",
       "1         1       1    0    2  71.2833         1      3        0\n",
       "2         1       3    0    1   7.9250         0      2        1\n",
       "3         1       1    0    2  53.1000         0      3        0\n",
       "4         0       3    1    2   8.0500         0      1        1"
      ]
     },
     "execution_count": 47,
     "metadata": {},
     "output_type": "execute_result"
    }
   ],
   "source": [
    "for dataset in combine:\n",
    "    dataset['Embarked']=dataset['Embarked'].map({'S': 0, 'C': 1, 'Q': 2}).astype(int)\n",
    "df_s.head()"
   ]
  },
  {
   "cell_type": "markdown",
   "metadata": {},
   "source": [
    "## 离散化并且转换Fare"
   ]
  },
  {
   "cell_type": "code",
   "execution_count": 48,
   "metadata": {},
   "outputs": [
    {
     "data": {
      "text/html": [
       "<div>\n",
       "<style>\n",
       "    .dataframe thead tr:only-child th {\n",
       "        text-align: right;\n",
       "    }\n",
       "\n",
       "    .dataframe thead th {\n",
       "        text-align: left;\n",
       "    }\n",
       "\n",
       "    .dataframe tbody tr th {\n",
       "        vertical-align: top;\n",
       "    }\n",
       "</style>\n",
       "<table border=\"1\" class=\"dataframe\">\n",
       "  <thead>\n",
       "    <tr style=\"text-align: right;\">\n",
       "      <th></th>\n",
       "      <th>Pclass</th>\n",
       "      <th>Sex</th>\n",
       "      <th>Age</th>\n",
       "      <th>Fare</th>\n",
       "      <th>Embarked</th>\n",
       "      <th>title</th>\n",
       "      <th>IsAlone</th>\n",
       "    </tr>\n",
       "  </thead>\n",
       "  <tbody>\n",
       "    <tr>\n",
       "      <th>0</th>\n",
       "      <td>3</td>\n",
       "      <td>1</td>\n",
       "      <td>2</td>\n",
       "      <td>7.8292</td>\n",
       "      <td>2</td>\n",
       "      <td>1</td>\n",
       "      <td>1</td>\n",
       "    </tr>\n",
       "    <tr>\n",
       "      <th>1</th>\n",
       "      <td>3</td>\n",
       "      <td>0</td>\n",
       "      <td>2</td>\n",
       "      <td>7.0000</td>\n",
       "      <td>0</td>\n",
       "      <td>3</td>\n",
       "      <td>0</td>\n",
       "    </tr>\n",
       "    <tr>\n",
       "      <th>2</th>\n",
       "      <td>2</td>\n",
       "      <td>1</td>\n",
       "      <td>3</td>\n",
       "      <td>9.6875</td>\n",
       "      <td>2</td>\n",
       "      <td>1</td>\n",
       "      <td>1</td>\n",
       "    </tr>\n",
       "    <tr>\n",
       "      <th>3</th>\n",
       "      <td>3</td>\n",
       "      <td>1</td>\n",
       "      <td>1</td>\n",
       "      <td>8.6625</td>\n",
       "      <td>0</td>\n",
       "      <td>1</td>\n",
       "      <td>1</td>\n",
       "    </tr>\n",
       "    <tr>\n",
       "      <th>4</th>\n",
       "      <td>3</td>\n",
       "      <td>0</td>\n",
       "      <td>1</td>\n",
       "      <td>12.2875</td>\n",
       "      <td>0</td>\n",
       "      <td>3</td>\n",
       "      <td>0</td>\n",
       "    </tr>\n",
       "  </tbody>\n",
       "</table>\n",
       "</div>"
      ],
      "text/plain": [
       "   Pclass  Sex  Age     Fare  Embarked  title  IsAlone\n",
       "0       3    1    2   7.8292         2      1        1\n",
       "1       3    0    2   7.0000         0      3        0\n",
       "2       2    1    3   9.6875         2      1        1\n",
       "3       3    1    1   8.6625         0      1        1\n",
       "4       3    0    1  12.2875         0      3        0"
      ]
     },
     "execution_count": 48,
     "metadata": {},
     "output_type": "execute_result"
    }
   ],
   "source": [
    "df_test['Fare'].fillna(df_test['Fare'].dropna().median(),inplace=True)#填充测试集的Fare特征\n",
    "df_test.head()"
   ]
  },
  {
   "cell_type": "code",
   "execution_count": 49,
   "metadata": {
    "collapsed": true
   },
   "outputs": [],
   "source": [
    "df_s['FareBand']=pd.qcut(df_s['Fare'],4)\n",
    "df_s[['FareBand','Survived']].groupby(['FareBand'],as_index=False).mean().sort_values(by='FareBand',ascending=True)\n",
    "combine=[df_s,df_test]"
   ]
  },
  {
   "cell_type": "code",
   "execution_count": 50,
   "metadata": {},
   "outputs": [
    {
     "data": {
      "text/html": [
       "<div>\n",
       "<style>\n",
       "    .dataframe thead tr:only-child th {\n",
       "        text-align: right;\n",
       "    }\n",
       "\n",
       "    .dataframe thead th {\n",
       "        text-align: left;\n",
       "    }\n",
       "\n",
       "    .dataframe tbody tr th {\n",
       "        vertical-align: top;\n",
       "    }\n",
       "</style>\n",
       "<table border=\"1\" class=\"dataframe\">\n",
       "  <thead>\n",
       "    <tr style=\"text-align: right;\">\n",
       "      <th></th>\n",
       "      <th>Survived</th>\n",
       "      <th>Pclass</th>\n",
       "      <th>Sex</th>\n",
       "      <th>Age</th>\n",
       "      <th>Fare</th>\n",
       "      <th>Embarked</th>\n",
       "      <th>title</th>\n",
       "      <th>IsAlone</th>\n",
       "    </tr>\n",
       "  </thead>\n",
       "  <tbody>\n",
       "    <tr>\n",
       "      <th>0</th>\n",
       "      <td>0</td>\n",
       "      <td>3</td>\n",
       "      <td>1</td>\n",
       "      <td>1</td>\n",
       "      <td>0</td>\n",
       "      <td>0</td>\n",
       "      <td>1</td>\n",
       "      <td>0</td>\n",
       "    </tr>\n",
       "    <tr>\n",
       "      <th>1</th>\n",
       "      <td>1</td>\n",
       "      <td>1</td>\n",
       "      <td>0</td>\n",
       "      <td>2</td>\n",
       "      <td>3</td>\n",
       "      <td>1</td>\n",
       "      <td>3</td>\n",
       "      <td>0</td>\n",
       "    </tr>\n",
       "    <tr>\n",
       "      <th>2</th>\n",
       "      <td>1</td>\n",
       "      <td>3</td>\n",
       "      <td>0</td>\n",
       "      <td>1</td>\n",
       "      <td>1</td>\n",
       "      <td>0</td>\n",
       "      <td>2</td>\n",
       "      <td>1</td>\n",
       "    </tr>\n",
       "    <tr>\n",
       "      <th>3</th>\n",
       "      <td>1</td>\n",
       "      <td>1</td>\n",
       "      <td>0</td>\n",
       "      <td>2</td>\n",
       "      <td>3</td>\n",
       "      <td>0</td>\n",
       "      <td>3</td>\n",
       "      <td>0</td>\n",
       "    </tr>\n",
       "    <tr>\n",
       "      <th>4</th>\n",
       "      <td>0</td>\n",
       "      <td>3</td>\n",
       "      <td>1</td>\n",
       "      <td>2</td>\n",
       "      <td>1</td>\n",
       "      <td>0</td>\n",
       "      <td>1</td>\n",
       "      <td>1</td>\n",
       "    </tr>\n",
       "  </tbody>\n",
       "</table>\n",
       "</div>"
      ],
      "text/plain": [
       "   Survived  Pclass  Sex  Age  Fare  Embarked  title  IsAlone\n",
       "0         0       3    1    1     0         0      1        0\n",
       "1         1       1    0    2     3         1      3        0\n",
       "2         1       3    0    1     1         0      2        1\n",
       "3         1       1    0    2     3         0      3        0\n",
       "4         0       3    1    2     1         0      1        1"
      ]
     },
     "execution_count": 50,
     "metadata": {},
     "output_type": "execute_result"
    }
   ],
   "source": [
    "for dataset in combine:\n",
    "    dataset.loc[dataset['Fare']<7.91,'Fare']=0\n",
    "    dataset.loc[(dataset['Fare'] > 7.91) & (dataset['Fare'] <= 14.454), 'Fare'] = 1\n",
    "    dataset.loc[(dataset['Fare'] > 14.454) & (dataset['Fare'] <= 31), 'Fare']   = 2\n",
    "    dataset.loc[ dataset['Fare'] > 31, 'Fare'] = 3\n",
    "    dataset['Fare'] = dataset['Fare'].astype(int)\n",
    "df_s=df_s.drop('FareBand',axis=1)\n",
    "combine=[df_s,df_test]\n",
    "df_s.head()"
   ]
  },
  {
   "cell_type": "markdown",
   "metadata": {},
   "source": [
    "## 不同特征之间的关联\n",
    "***\n",
    "- 从表格可以看出，是否存活和性别的负相关最严重\n",
    "- 其次是和经济社会地位的负相关\n",
    "- SibSp和Parch之间的正相关是很明显的"
   ]
  },
  {
   "cell_type": "code",
   "execution_count": 51,
   "metadata": {},
   "outputs": [
    {
     "data": {
      "text/html": [
       "<div>\n",
       "<style>\n",
       "    .dataframe thead tr:only-child th {\n",
       "        text-align: right;\n",
       "    }\n",
       "\n",
       "    .dataframe thead th {\n",
       "        text-align: left;\n",
       "    }\n",
       "\n",
       "    .dataframe tbody tr th {\n",
       "        vertical-align: top;\n",
       "    }\n",
       "</style>\n",
       "<table border=\"1\" class=\"dataframe\">\n",
       "  <thead>\n",
       "    <tr style=\"text-align: right;\">\n",
       "      <th></th>\n",
       "      <th>Survived</th>\n",
       "      <th>Pclass</th>\n",
       "      <th>Sex</th>\n",
       "      <th>Age</th>\n",
       "      <th>Fare</th>\n",
       "      <th>Embarked</th>\n",
       "      <th>title</th>\n",
       "      <th>IsAlone</th>\n",
       "    </tr>\n",
       "  </thead>\n",
       "  <tbody>\n",
       "    <tr>\n",
       "      <th>Survived</th>\n",
       "      <td>0.0000</td>\n",
       "      <td>-0.3385</td>\n",
       "      <td>-0.5434</td>\n",
       "      <td>0.0000</td>\n",
       "      <td>0.2959</td>\n",
       "      <td>0.1068</td>\n",
       "      <td>0.4078</td>\n",
       "      <td>-0.2034</td>\n",
       "    </tr>\n",
       "    <tr>\n",
       "      <th>Pclass</th>\n",
       "      <td>-0.3385</td>\n",
       "      <td>0.0000</td>\n",
       "      <td>0.1319</td>\n",
       "      <td>-0.4188</td>\n",
       "      <td>-0.6285</td>\n",
       "      <td>0.0000</td>\n",
       "      <td>-0.1739</td>\n",
       "      <td>0.1352</td>\n",
       "    </tr>\n",
       "    <tr>\n",
       "      <th>Sex</th>\n",
       "      <td>-0.5434</td>\n",
       "      <td>0.1319</td>\n",
       "      <td>0.0000</td>\n",
       "      <td>0.0000</td>\n",
       "      <td>-0.2489</td>\n",
       "      <td>-0.1166</td>\n",
       "      <td>-0.5027</td>\n",
       "      <td>0.3036</td>\n",
       "    </tr>\n",
       "    <tr>\n",
       "      <th>Age</th>\n",
       "      <td>0.0000</td>\n",
       "      <td>-0.4188</td>\n",
       "      <td>0.0000</td>\n",
       "      <td>0.0000</td>\n",
       "      <td>0.1299</td>\n",
       "      <td>0.0000</td>\n",
       "      <td>0.0000</td>\n",
       "      <td>0.1372</td>\n",
       "    </tr>\n",
       "    <tr>\n",
       "      <th>Fare</th>\n",
       "      <td>0.2959</td>\n",
       "      <td>-0.6285</td>\n",
       "      <td>-0.2489</td>\n",
       "      <td>0.1299</td>\n",
       "      <td>0.0000</td>\n",
       "      <td>0.0000</td>\n",
       "      <td>0.3417</td>\n",
       "      <td>-0.5689</td>\n",
       "    </tr>\n",
       "    <tr>\n",
       "      <th>Embarked</th>\n",
       "      <td>0.1068</td>\n",
       "      <td>0.0000</td>\n",
       "      <td>-0.1166</td>\n",
       "      <td>0.0000</td>\n",
       "      <td>0.0000</td>\n",
       "      <td>0.0000</td>\n",
       "      <td>0.0000</td>\n",
       "      <td>0.0000</td>\n",
       "    </tr>\n",
       "    <tr>\n",
       "      <th>title</th>\n",
       "      <td>0.4078</td>\n",
       "      <td>-0.1739</td>\n",
       "      <td>-0.5027</td>\n",
       "      <td>0.0000</td>\n",
       "      <td>0.3417</td>\n",
       "      <td>0.0000</td>\n",
       "      <td>0.0000</td>\n",
       "      <td>-0.4058</td>\n",
       "    </tr>\n",
       "    <tr>\n",
       "      <th>IsAlone</th>\n",
       "      <td>-0.2034</td>\n",
       "      <td>0.1352</td>\n",
       "      <td>0.3036</td>\n",
       "      <td>0.1372</td>\n",
       "      <td>-0.5689</td>\n",
       "      <td>0.0000</td>\n",
       "      <td>-0.4058</td>\n",
       "      <td>0.0000</td>\n",
       "    </tr>\n",
       "  </tbody>\n",
       "</table>\n",
       "</div>"
      ],
      "text/plain": [
       "          Survived  Pclass     Sex     Age    Fare  Embarked   title  IsAlone\n",
       "Survived    0.0000 -0.3385 -0.5434  0.0000  0.2959    0.1068  0.4078  -0.2034\n",
       "Pclass     -0.3385  0.0000  0.1319 -0.4188 -0.6285    0.0000 -0.1739   0.1352\n",
       "Sex        -0.5434  0.1319  0.0000  0.0000 -0.2489   -0.1166 -0.5027   0.3036\n",
       "Age         0.0000 -0.4188  0.0000  0.0000  0.1299    0.0000  0.0000   0.1372\n",
       "Fare        0.2959 -0.6285 -0.2489  0.1299  0.0000    0.0000  0.3417  -0.5689\n",
       "Embarked    0.1068  0.0000 -0.1166  0.0000  0.0000    0.0000  0.0000   0.0000\n",
       "title       0.4078 -0.1739 -0.5027  0.0000  0.3417    0.0000  0.0000  -0.4058\n",
       "IsAlone    -0.2034  0.1352  0.3036  0.1372 -0.5689    0.0000 -0.4058   0.0000"
      ]
     },
     "execution_count": 51,
     "metadata": {},
     "output_type": "execute_result"
    },
    {
     "data": {
      "image/png": "[encoded data removed]",
      "text/plain": [
       "<matplotlib.figure.Figure at 0x1f838de9048>"
      ]
     },
     "metadata": {},
     "output_type": "display_data"
    }
   ],
   "source": [
    "corr=df_s.corr()\n",
    "corr[corr==1]=0#基本处理，让表格看起来更方便\n",
    "corr[abs(corr)<0.1]=0\n",
    "\n",
    "sns.heatmap(corr,\n",
    "            xticklabels=corr.columns.values,\n",
    "            yticklabels=corr.columns.values)\n",
    "\n",
    "# sns.pairplot(df_s,hue='Survived',size=10,diag_kind='kde')\n",
    "# plt.savefig(r'D:\\Data\\Titanic Machine Learning from Disaster\\df_s_corr.png')\n",
    "corr_t=corr.round(4)\n",
    "corr_t"
   ]
  },
  {
   "cell_type": "markdown",
   "metadata": {},
   "source": [
    "**男性的存活率大约16%低于女性的26%**"
   ]
  },
  {
   "cell_type": "code",
   "execution_count": 52,
   "metadata": {},
   "outputs": [
    {
     "data": {
      "text/plain": [
       "Text(0.5,1,'不同性别的存活人数')"
      ]
     },
     "execution_count": 52,
     "metadata": {},
     "output_type": "execute_result"
    },
    {
     "data": {
      "image/png": "[encoded data removed]",
      "text/plain": [
       "<matplotlib.figure.Figure at 0x1f8373939b0>"
      ]
     },
     "metadata": {},
     "output_type": "display_data"
    }
   ],
   "source": [
    "sns.countplot(x='Sex',hue='Survived',data=df_s).set_title('不同性别的存活人数')"
   ]
  },
  {
   "cell_type": "markdown",
   "metadata": {},
   "source": [
    "## 数据的大致分布\n",
    "***\n",
    "- 年龄基本服从高斯分布，20到40岁的人居多\n",
    "- 经济社会地位中第3等级的人最多，但是1和2的总人数和3相当\n",
    "- SlibSp中0的最多，身边没有兄弟姐妹或者配偶\n",
    "- Fare中取值一般都比较低\n",
    "- Embarked很多都是在2号港口上船的\n",
    "- Parch的分布和SliSp的分布基本一致，也是没有照看的人"
   ]
  },
  {
   "cell_type": "code",
   "execution_count": 53,
   "metadata": {
    "collapsed": true
   },
   "outputs": [],
   "source": [
    "# f, axes = plt.subplots(nrows=2,ncols=3, figsize=(15, 10))\n",
    "\n",
    "# sns.distplot(df_s['Age'],kde=False,color='r',ax=axes[0][0]).set_title('Age')\n",
    "# axes[0][0].set_ylabel('People Count')\n",
    "\n",
    "# sns.distplot(df_s['Pclass'],kde=False,color='b',ax=axes[0][1]).set_title('Pclass')\n",
    "# axes[0][1].set_ylabel('People Count')\n",
    "\n",
    "# sns.distplot(df_s['SibSp'],kde=False,color='y',ax=axes[0][2]).set_title('SibSp')\n",
    "# axes[0][2].set_ylabel('People Count')\n",
    "\n",
    "# sns.distplot(df_s['Fare'],kde=False,color='y',ax=axes[1][0]).set_title('Fare')\n",
    "# axes[1][0].set_ylabel('People Count')\n",
    "\n",
    "# sns.distplot(df_s['Embarked'],kde=False,color='b',ax=axes[1][1]).set_title('Embarked')\n",
    "# axes[1][1].set_ylabel('Sex')\n",
    "\n",
    "# sns.distplot(df_s['Parch'],kde=False,color='r',ax=axes[1][2]).set_title('Parch')\n",
    "# axes[1][2].set_ylabel('Parch')"
   ]
  },
  {
   "cell_type": "markdown",
   "metadata": {},
   "source": [
    " ## Survived VS Age\n",
    "***\n",
    "* 两条曲线的分布很相似，可以理解为年龄段人数多的地方，生存下来的人数和未幸存下来的人数也会多"
   ]
  },
  {
   "cell_type": "code",
   "execution_count": 54,
   "metadata": {},
   "outputs": [
    {
     "data": {
      "text/plain": [
       "Text(0.5,1,'Age Distribution-Survived VS not Survived')"
      ]
     },
     "execution_count": 54,
     "metadata": {},
     "output_type": "execute_result"
    },
    {
     "data": {
      "image/png": "[encoded data removed]",
      "text/plain": [
       "<matplotlib.figure.Figure at 0x1f83a5f6cf8>"
      ]
     },
     "metadata": {},
     "output_type": "display_data"
    }
   ],
   "source": [
    "plt.figure(figsize=(15,5))\n",
    "sns.set(palette='muted',color_codes=True)\n",
    "ax=sns.kdeplot(data=df_s.loc[df_s['Survived']==0]['Age'],color='r',shade=True,label='not Survived')\n",
    "ax=sns.kdeplot(data=df_s.loc[df_s['Survived']==1]['Age'],color='b',shade=True,label='Survived')\n",
    "ax.set(xlabel='Age',ylabel='Frequency')\n",
    "plt.title(\"Age Distribution-Survived VS not Survived\")"
   ]
  },
  {
   "cell_type": "markdown",
   "metadata": {
    "collapsed": true
   },
   "source": [
    "## Survived VS Pclass\n",
    "***\n",
    "- 从图中可以看到第三等级的人中，存活的人数比率远远低于另外两个等级的"
   ]
  },
  {
   "cell_type": "code",
   "execution_count": 55,
   "metadata": {},
   "outputs": [
    {
     "data": {
      "text/plain": [
       "Text(0.5,1,'People survived or not survived  VS Pclass')"
      ]
     },
     "execution_count": 55,
     "metadata": {},
     "output_type": "execute_result"
    },
    {
     "data": {
      "image/png": "[encoded data removed]",
      "text/plain": [
       "<matplotlib.figure.Figure at 0x1f838de97f0>"
      ]
     },
     "metadata": {},
     "output_type": "display_data"
    }
   ],
   "source": [
    "plt.figure(figsize=(10,5))\n",
    "sns.countplot(x='Pclass',hue='Survived',data=df_s).set_title('People survived or not survived  VS Pclass')"
   ]
  },
  {
   "cell_type": "markdown",
   "metadata": {},
   "source": [
    "## Survived VS Fare"
   ]
  },
  {
   "cell_type": "code",
   "execution_count": 56,
   "metadata": {},
   "outputs": [
    {
     "data": {
      "text/plain": [
       "Text(0.5,1,'Fare Distribution-Survived VS not Survived')"
      ]
     },
     "execution_count": 56,
     "metadata": {},
     "output_type": "execute_result"
    },
    {
     "data": {
      "image/png": "[encoded data removed]",
      "text/plain": [
       "<matplotlib.figure.Figure at 0x1f83a68bb70>"
      ]
     },
     "metadata": {},
     "output_type": "display_data"
    }
   ],
   "source": [
    "plt.figure(figsize=(15,5))\n",
    "sns.set(palette='muted',color_codes=True)\n",
    "ax=sns.kdeplot(data=df_s.loc[df_s['Survived']==0]['Fare'],color='r',shade=True,label='not Survived')\n",
    "ax=sns.kdeplot(data=df_s.loc[df_s['Survived']==1]['Fare'],color='b',shade=True,label='Survived')\n",
    "ax.set(xlabel='Fare',ylabel='Frequency')\n",
    "plt.title(\"Fare Distribution-Survived VS not Survived\")"
   ]
  },
  {
   "cell_type": "code",
   "execution_count": 57,
   "metadata": {
    "collapsed": true
   },
   "outputs": [],
   "source": [
    "from sklearn.preprocessing import MinMaxScaler, StandardScaler\n",
    "x_predict=df_test\n",
    "# 1. min max scaler\n",
    "min_max_scaler = MinMaxScaler()\n",
    "x_predict_min_max_scaled = min_max_scaler.fit_transform(x_predict)\n",
    "\n",
    "# 2. standard scaler\n",
    "std_scaler = StandardScaler()\n",
    "x_predict_std_scaled = std_scaler.fit_transform(x_predict)"
   ]
  },
  {
   "cell_type": "markdown",
   "metadata": {
    "collapsed": true
   },
   "source": [
    "# 建立模型进行测试"
   ]
  },
  {
   "cell_type": "code",
   "execution_count": 79,
   "metadata": {},
   "outputs": [
    {
     "name": "stdout",
     "output_type": "stream",
     "text": [
      "[ 0.76106542  0.16314732  0.05510666  0.0124438   0.00823681  0.          0.        ]\n",
      "Index(['title', 'Pclass', 'Fare', 'Age', 'IsAlone', 'Sex', 'Embarked'], dtype='object')\n"
     ]
    }
   ],
   "source": [
    "from sklearn.model_selection import train_test_split#划分训练集和测试集\n",
    "from sklearn.model_selection import GridSearchCV\n",
    "from sklearn.neighbors import KNeighborsClassifier\n",
    "from sklearn.linear_model import LogisticRegression\n",
    "from sklearn.svm import SVC\n",
    "from sklearn.tree import DecisionTreeClassifier\n",
    "from sklearn.ensemble import RandomForestClassifier\n",
    "from sklearn.ensemble import GradientBoostingClassifier\n",
    "from sklearn.neural_network import MLPClassifier\n",
    "import pickle\n",
    "from sklearn.neural_network import MLPClassifier\n",
    "from sklearn.ensemble import AdaBoostClassifier\n",
    "X=df_s.drop(['Survived'],axis=1)\n",
    "y=df_s['Survived']\n",
    "x_train,x_test,y_train,y_test=train_test_split(X,y,test_size=1/4,random_state=0)\n",
    "\n",
    "dtree = DecisionTreeClassifier(#测试不同属性的重要性\n",
    "    max_depth=3,\n",
    "    class_weight=\"balanced\",\n",
    "    min_weight_fraction_leaf=0.01\n",
    "    )\n",
    "dtree = dtree.fit(x_train,y_train)\n",
    "\n",
    "## plot the importances ##\n",
    "importances = dtree.feature_importances_\n",
    "indices=np.argsort(-importances)\n",
    "feat_names=['Pclass','Age','Fare','Sex']\n",
    "print(importances[indices]) \n",
    "print(df_s.drop(['Survived'],axis=1).columns[indices])"
   ]
  },
  {
   "cell_type": "code",
   "execution_count": 80,
   "metadata": {
    "collapsed": true
   },
   "outputs": [],
   "source": [
    "# 1. min max scaler\n",
    "min_max_scaler = MinMaxScaler()\n",
    "x_train_min_max_scaled = min_max_scaler.fit_transform(x_train)\n",
    "x_test_min_max_scaled = min_max_scaler.transform(x_test)\n",
    "X_test_min_max_scaled=min_max_scaler.transform(X)#整个数据集\n",
    "# 2. standard scaler\n",
    "std_scaler = StandardScaler()\n",
    "x_train_std_scaled = std_scaler.fit_transform(x_train)\n",
    "x_test_std_scaled = std_scaler.transform(x_test)\n",
    "X_test_std_scaled=std_scaler.transform(X)"
   ]
  },
  {
   "cell_type": "code",
   "execution_count": 110,
   "metadata": {
    "scrolled": false
   },
   "outputs": [
    {
     "name": "stdout",
     "output_type": "stream",
     "text": [
      "训练模型是： KNN    特征没有归一化\n",
      "最优参数： {'n_neighbors': 11}\n",
      "验证集最高得分： 0.814371257485\n",
      "测试集上准确率： 0.820627802691\n",
      "训练模型是： KNN    最小最大归一化\n",
      "最优参数： {'n_neighbors': 12}\n",
      "验证集最高得分： 0.833832335329\n",
      "测试集上准确率： 0.807174887892\n",
      "训练模型是： KNN    标准归一化\n",
      "最优参数： {'n_neighbors': 8}\n",
      "验证集最高得分： 0.812874251497\n",
      "测试集上准确率： 0.816143497758\n",
      "训练模型是： Logist    特征没有归一化\n",
      "最优参数： {'C': 3.2000000000000002}\n",
      "验证集最高得分： 0.815868263473\n",
      "测试集上准确率： 0.766816143498\n",
      "训练模型是： Logist    最小最大归一化\n",
      "最优参数： {'C': 2.9000000000000004}\n",
      "验证集最高得分： 0.814371257485\n",
      "测试集上准确率： 0.775784753363\n",
      "训练模型是： Logist    标准归一化\n",
      "最优参数： {'C': 0.5}\n",
      "验证集最高得分： 0.814371257485\n",
      "测试集上准确率： 0.775784753363\n",
      "训练模型是： SVC    特征没有归一化\n",
      "最优参数： {'C': 1.8000000000000003}\n",
      "验证集最高得分： 0.824850299401\n",
      "测试集上准确率： 0.784753363229\n",
      "训练模型是： SVC    最小最大归一化\n",
      "最优参数： {'C': 4.7999999999999998}\n",
      "验证集最高得分： 0.826347305389\n",
      "测试集上准确率： 0.789237668161\n",
      "训练模型是： SVC    标准归一化\n",
      "最优参数： {'C': 2.6000000000000001}\n",
      "验证集最高得分： 0.826347305389\n",
      "测试集上准确率： 0.811659192825\n",
      "训练模型是： DT    特征没有归一化\n",
      "最优参数： {'max_depth': 5}\n",
      "验证集最高得分： 0.805389221557\n",
      "测试集上准确率： 0.807174887892\n",
      "训练模型是： DT    最小最大归一化\n",
      "最优参数： {'max_depth': 5}\n",
      "验证集最高得分： 0.803892215569\n",
      "测试集上准确率： 0.807174887892\n",
      "训练模型是： DT    标准归一化\n",
      "最优参数： {'max_depth': 5}\n",
      "验证集最高得分： 0.805389221557\n",
      "测试集上准确率： 0.807174887892\n",
      "训练模型是： RF    特征没有归一化\n",
      "最优参数： {'n_estimators': 65}\n",
      "验证集最高得分： 0.808383233533\n",
      "测试集上准确率： 0.807174887892\n",
      "训练模型是： RF    最小最大归一化\n",
      "最优参数： {'n_estimators': 89}\n",
      "验证集最高得分： 0.812874251497\n",
      "测试集上准确率： 0.820627802691\n",
      "训练模型是： RF    标准归一化\n",
      "最优参数： {'n_estimators': 78}\n",
      "验证集最高得分： 0.809880239521\n",
      "测试集上准确率： 0.820627802691\n",
      "训练模型是： GBDT    特征没有归一化\n",
      "最优参数： {'learning_rate': 0.20099999999999996}\n",
      "验证集最高得分： 0.829341317365\n",
      "测试集上准确率： 0.825112107623\n",
      "训练模型是： GBDT    最小最大归一化\n",
      "最优参数： {'learning_rate': 0.20099999999999996}\n",
      "验证集最高得分： 0.830838323353\n",
      "测试集上准确率： 0.825112107623\n",
      "训练模型是： GBDT    标准归一化\n",
      "最优参数： {'learning_rate': 0.20099999999999996}\n",
      "验证集最高得分： 0.829341317365\n",
      "测试集上准确率： 0.820627802691\n"
     ]
    }
   ],
   "source": [
    "data={'特征没有归一化':[x_train,y_train,x_test,y_test],\\\n",
    "      '最小最大归一化':[x_train_min_max_scaled, y_train,x_test_min_max_scaled,y_test],\\\n",
    "      '标准归一化':[x_train_std_scaled,y_train,x_test_std_scaled, y_test]}\n",
    "model_dict ={KNeighborsClassifier():{'n_neighbors': np.arange(1,16,1)},\\\n",
    "             LogisticRegression():{'C': np.arange(0.1, 4,0.1)},\\\n",
    "             SVC():{'C':  np.arange(0.1,5,0.1)},\\\n",
    "             DecisionTreeClassifier():{'max_depth': np.arange(3,10,1)},\\\n",
    "             RandomForestClassifier():{'n_estimators': np.arange(60,100,1)},\n",
    "             GradientBoostingClassifier():{'learning_rate': np.arange(0.001,0.3,0.01)}}\n",
    "name=['KNN','Logist','SVC','DT','RF','GBDT']\n",
    "i=0\n",
    "for model,parameters in model_dict.items():\n",
    "    for key,item in data.items():\n",
    "        clf=GridSearchCV(model,parameters,cv=6,scoring='accuracy')\n",
    "        clf.fit(item[0],item[1])\n",
    "        print('训练模型是：',name[i],'  ',key)\n",
    "        print('最优参数：', clf.best_params_)\n",
    "        print('验证集最高得分：', clf.best_score_)\n",
    "        best_model = clf.best_estimator_\n",
    "        test_acc=best_model.score(item[2], item[3])\n",
    "        print('测试集上准确率：', test_acc)\n",
    "\n",
    "        with open(r'D:\\Data\\model\\{}.pkl'.format(model_name+key),'wb') as obj:\n",
    "            pickle.dump(best_model,obj)\n",
    "    i=i+1"
   ]
  },
  {
   "cell_type": "code",
   "execution_count": 821,
   "metadata": {
    "collapsed": true
   },
   "outputs": [],
   "source": [
    "# predict_result=pd.DataFrame(columns=['PassengerId','Survived'])#建立预测表格\n",
    "# predict_result['PassengerId']=passengerId\n",
    "# predict_tem=pd.DataFrame()#各种模型的预测结果\n",
    "\n",
    "# KNN=KNeighborsClassifier(n_neighbors=11)\n",
    "# KNN.fit(X,y)\n",
    "# KNN_pre=KNN.predict(x_predict)\n",
    "# predict_tem['KNN']=KNN_pre\n",
    "\n",
    "# LR=LogisticRegression(C=0.5)\n",
    "# LR.fit(X_test_std_scaled,y)\n",
    "# LR_pre=LR.predict(x_predict_std_scaled)\n",
    "# predict_tem['LR']=LR_pre\n",
    "\n",
    "# SVM=SVC(C=2.6000000000000001)\n",
    "# SVM.fit(X_test_std_scaled,y)\n",
    "# SVM_pre=LR.predict(x_predict_std_scaled)\n",
    "# predict_tem['SVM']=SVM_pre\n",
    "\n",
    "# DT=DecisionTreeClassifier(max_depth=5)\n",
    "# DT.fit(X_test_std_scaled,y)\n",
    "# DT_pre=DT.predict(x_predict_std_scaled)\n",
    "# predict_tem['DT']=DT_pre\n",
    "\n",
    "# RF=RandomForestClassifier(n_estimators=79)\n",
    "# RF.fit(X_test_min_max_scaled,y)\n",
    "# RF_pre=RF.predict(x_predict_min_max_scaled)\n",
    "# predict_tem['RF']=RF_pre\n",
    "\n",
    "# GBDT=GradientBoostingClassifier(learning_rate=0.20099999999999996)\n",
    "# GBDT.fit(X_test_min_max_scaled,y)\n",
    "# GBDT_pre=GBDT.predict(x_predict_min_max_scaled)\n",
    "# predict_tem['GBDT']=GBDT_pre\n",
    "\n",
    "# # ann_model = MLPClassifier(hidden_layer_sizes=[40, 40,40], activation='tanh', alpha=1,\n",
    "# #                                   solver='lbfgs', random_state=0)\n",
    "# # ann_model.fit(X_test_min_max_scaled,y)\n",
    "# # ann_model_pre=ann_model.predict(x_predict_min_max_scaled)\n",
    "# # predict_tem['ann_model']=ann_model_pre\n",
    "\n",
    "# adbt=AdaBoostClassifier(DecisionTreeClassifier(max_depth=5, min_samples_split=20, min_samples_leaf=5),\n",
    "#                          algorithm=\"SAMME\",\n",
    "#                          n_estimators=190, learning_rate=0.160)\n",
    "# adbt.fit(X_test_min_max_scaled,y)\n",
    "# adbt_pre=adbt.predict(x_predict)\n",
    "# predict_tem['adbt']=adbt_pre\n",
    "\n",
    "# predict_tem['SUM']=predict_tem.sum(axis=1)\n",
    "# predict_tem.drop(['KNN','LR','SVM','DT','RF','GBDT','adbt'],axis=1,inplace=True)\n",
    "# predict_tem[predict_tem<=5]=0\n",
    "# predict_tem[predict_tem>=6]=1\n",
    "# predict_result['Survived']=predict_tem['SUM']\n",
    "# predict_result\n",
    "# predict_result.to_csv(r'.\\Titanic Machine Learning from Disaster\\QuanTiresult_predict.csv',index=False)"
   ]
  },
  {
   "cell_type": "code",
   "execution_count": null,
   "metadata": {
    "collapsed": true,
    "scrolled": true
   },
   "outputs": [],
   "source": [
    "# activations = ['relu', 'logistic', 'tanh']\n",
    "# alphas = [0.01, 0.1, 1, 10]\n",
    "\n",
    "# results_df = pd.DataFrame(index=activations, columns=alphas)\n",
    "\n",
    "# for activation in activations:\n",
    "#     print('激活函数：{}'.format(activation))\n",
    "#     for alpha in alphas:\n",
    "#         ann_model = MLPClassifier(hidden_layer_sizes=[40, 40,40], activation=activations, alpha=alphas,\n",
    "#                                   solver='lbfgs', random_state=0)\n",
    "#         ann_model.fit(x_train, y_train)\n",
    "#         print('alpha：{}'.format(alpha))\n",
    "#         acc = ann_model.score(x_test, y_test)\n",
    "#         print('准确率：{:.3f}'.format(acc))\n",
    "\n",
    "# # results_df.loc[activation, alpha] = acc * 100\n",
    "# # with open(r'D:\\Data\\model\\神经网络.pkl','wb') as obj:\n",
    "# #         pickle.dump(ann_model,obj)\n",
    "# # print()"
   ]
  },
  {
   "cell_type": "code",
   "execution_count": 112,
   "metadata": {},
   "outputs": [
    {
     "name": "stdout",
     "output_type": "stream",
     "text": [
      "0.847533632287\n"
     ]
    }
   ],
   "source": [
    "adbt=AdaBoostClassifier(DecisionTreeClassifier(max_depth=5, min_samples_split=20, min_samples_leaf=5),\n",
    "                         algorithm=\"SAMME\",\n",
    "                         n_estimators=190, learning_rate=0.16)\n",
    "adbt.fit(x_train,y_train)\n",
    "print(adbt.score(x_test,y_test))\n",
    "adbt_pre=adbt.predict(x_predict)"
   ]
  },
  {
   "cell_type": "code",
   "execution_count": null,
   "metadata": {
    "collapsed": true
   },
   "outputs": [],
   "source": []
  },
  {
   "cell_type": "markdown",
   "metadata": {
    "collapsed": true
   },
   "source": [
    "## 组合各种模型进行预测"
   ]
  },
  {
   "cell_type": "code",
   "execution_count": 113,
   "metadata": {
    "collapsed": true
   },
   "outputs": [],
   "source": [
    "\n",
    "predict_result=pd.DataFrame(columns=['PassengerId','Survived'])#建立预测表格\n",
    "predict_result['PassengerId']=passengerId\n",
    "\n",
    "predict_tem=pd.DataFrame()#各种模型的预测结果\n",
    "with open(r'.\\model\\kNN特征没有归一化.pkl','rb') as obj:\n",
    "    model_KNN=pickle.load(obj)\n",
    "predict=model_KNN.predict(x_predict)\n",
    "predict_tem['KNN']=predict\n",
    "\n",
    "with open(r'.\\model\\LR标准归一化.pkl','rb') as obj:\n",
    "    model_LR=pickle.load(obj)\n",
    "predict=model_LR.predict(x_predict_std_scaled)\n",
    "predict_tem['LR']=predict\n",
    "\n",
    "with open(r'.\\model\\SVM标准归一化.pkl','rb') as obj:\n",
    "    model_SVM=pickle.load(obj)\n",
    "predict=model_SVM.predict(x_predict_std_scaled)\n",
    "predict_tem['SVM']=predict\n",
    "\n",
    "with open(r'.\\model\\DT特征没有归一化.pkl','rb') as obj:\n",
    "    model_DT=pickle.load(obj)\n",
    "predict=model_DT.predict(x_predict_std_scaled)\n",
    "predict_tem['DT']=predict\n",
    "\n",
    "with open(r'.\\model\\RF最小最大归一化.pkl','rb') as obj:\n",
    "    model_RF=pickle.load(obj)\n",
    "predict=model_RF.predict(x_predict_min_max_scaled)\n",
    "predict_tem['RF']=predict\n",
    "\n",
    "with open(r'.\\model\\GBDT标准归一化.pkl','rb') as obj:\n",
    "    model_GBDT=pickle.load(obj)\n",
    "predict=model_GBDT.predict(x_predict_std_scaled)\n",
    "predict_tem['GBDT']=predict\n",
    "\n",
    "# with open(r'.\\model\\神经网络.pkl','rb') as obj:\n",
    "#     model_MLPC=pickle.load(obj)\n",
    "# predict=model_MLPC.predict(x_predict)\n",
    "# predict_tem['MLPC']=predict\n",
    "\n",
    "predict_tem['ADBT']=adbt_pre\n",
    "predict_tem['SUM']=predict_tem.sum(axis=1)\n",
    "predict_tem.drop(['KNN','LR','SVM','DT','RF','GBDT','ADBT'],axis=1,inplace=True)\n",
    "predict_tem[predict_tem<=5]=0\n",
    "predict_tem[predict_tem>=6]=1\n",
    "predict_result['Survived']=predict_tem['SUM']\n",
    "predict_result\n",
    "predict_result.to_csv(r'.\\Titanic Machine Learning from Disaster\\result_predict.csv',index=False)"
   ]
  },
  {
   "cell_type": "code",
   "execution_count": 817,
   "metadata": {
    "collapsed": true
   },
   "outputs": [],
   "source": [
    "#组合预测\n",
    "df1=pd.read_csv(r'.\\Titanic Machine Learning from Disaster\\0.7325gender_submission.csv')\n",
    "df2=pd.read_csv(r'.\\Titanic Machine Learning from Disaster\\0.77511gender_submission.csv')\n",
    "df3=pd.read_csv(r'.\\Titanic Machine Learning from Disaster\\0.77990result_predict.csv')\n",
    "df4=pd.read_csv(r'.\\Titanic Machine Learning from Disaster\\result_predict.csv')\n",
    "predict_result=pd.DataFrame(columns=['PassengerId','Survived'])#建立预测表格\n",
    "predict_result['PassengerId']=passengerId\n",
    "predict_tem=pd.DataFrame()#各种模型的预测结果\n",
    "predict_tem['one']=df1['Survived']\n",
    "predict_tem['two']=df2['Survived']\n",
    "predict_tem['three']=df3['Survived']\n",
    "predict_tem['four']=df4['Survived']\n",
    "predict_tem['SUM']=predict_tem.sum(axis=1)\n",
    "predict_tem.drop(['one','two','three','four'],axis=1,inplace=True)\n",
    "predict_tem[predict_tem<=6]=0\n",
    "predict_tem[predict_tem>=7]=1\n",
    "predict_result['Survived']=predict_tem['SUM']\n",
    "predict_result\n",
    "predict_result.to_csv(r'.\\Titanic Machine Learning from Disaster\\zongde_result_predict.csv',index=False)"
   ]
  },
  {
   "cell_type": "code",
   "execution_count": null,
   "metadata": {
    "collapsed": true
   },
   "outputs": [],
   "source": []
  }
 ],
 "metadata": {
  "kernelspec": {
   "display_name": "Python 3",
   "language": "python",
   "name": "python3"
  },
  "language_info": {
   "codemirror_mode": {
    "name": "ipython",
    "version": 3
   },
   "file_extension": ".py",
   "mimetype": "text/x-python",
   "name": "python",
   "nbconvert_exporter": "python",
   "pygments_lexer": "ipython3",
   "version": "3.6.3"
  }
 },
 "nbformat": 4,
 "nbformat_minor": 2
}
